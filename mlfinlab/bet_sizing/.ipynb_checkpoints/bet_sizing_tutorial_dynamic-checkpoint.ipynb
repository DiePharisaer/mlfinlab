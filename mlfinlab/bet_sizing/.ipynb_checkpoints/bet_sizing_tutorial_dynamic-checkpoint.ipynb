{
 "cells": [
  {
   "cell_type": "markdown",
   "metadata": {},
   "source": [
    "# `mlfinlab.bet_sizing` - Module Tutorial\n",
    "The following is a tutorial in how to apply the functions in the `mlfinlab.bet_sizing` module. The exercises from Chapter 10 are used as examples."
   ]
  },
  {
   "cell_type": "code",
   "execution_count": 1,
   "metadata": {},
   "outputs": [],
   "source": [
    "# imports\n",
    "import numpy as np\n",
    "import pandas as pd\n",
    "\n",
    "import matplotlib.pyplot as plt\n",
    "from matplotlib import cm\n",
    "import seaborn as sns\n",
    "\n",
    "from IPython.display import display\n",
    "import datetime as dt\n",
    "\n",
    "# mlfinlab imports\n",
    "from mlfinlab.bet_sizing import bet_size_dynamic\n",
    "from mlfinlab.bet_sizing.ch10_snippets import get_w, get_t_pos, limit_price, bet_size, inv_price, inv_price_power, inv_price_sigmoid\n"
   ]
  },
  {
   "cell_type": "markdown",
   "metadata": {},
   "source": [
    "----\n",
    "#### Dynamic Bet Size example\n"
   ]
  },
  {
   "cell_type": "code",
   "execution_count": 2,
   "metadata": {},
   "outputs": [
    {
     "data": {
      "text/html": [
       "<div>\n",
       "<style scoped>\n",
       "    .dataframe tbody tr th:only-of-type {\n",
       "        vertical-align: middle;\n",
       "    }\n",
       "\n",
       "    .dataframe tbody tr th {\n",
       "        vertical-align: top;\n",
       "    }\n",
       "\n",
       "    .dataframe thead th {\n",
       "        text-align: right;\n",
       "    }\n",
       "</style>\n",
       "<table border=\"1\" class=\"dataframe\">\n",
       "  <thead>\n",
       "    <tr style=\"text-align: right;\">\n",
       "      <th></th>\n",
       "      <th>pos</th>\n",
       "      <th>max_pos</th>\n",
       "      <th>m_p</th>\n",
       "      <th>f</th>\n",
       "    </tr>\n",
       "  </thead>\n",
       "  <tbody>\n",
       "    <tr>\n",
       "      <th>2000-01-01</th>\n",
       "      <td>132</td>\n",
       "      <td>250</td>\n",
       "      <td>137</td>\n",
       "      <td>156</td>\n",
       "    </tr>\n",
       "    <tr>\n",
       "      <th>2000-01-02</th>\n",
       "      <td>157</td>\n",
       "      <td>250</td>\n",
       "      <td>61</td>\n",
       "      <td>114</td>\n",
       "    </tr>\n",
       "    <tr>\n",
       "      <th>2000-01-03</th>\n",
       "      <td>140</td>\n",
       "      <td>250</td>\n",
       "      <td>121</td>\n",
       "      <td>120</td>\n",
       "    </tr>\n",
       "    <tr>\n",
       "      <th>2000-01-04</th>\n",
       "      <td>131</td>\n",
       "      <td>250</td>\n",
       "      <td>152</td>\n",
       "      <td>86</td>\n",
       "    </tr>\n",
       "    <tr>\n",
       "      <th>2000-01-05</th>\n",
       "      <td>113</td>\n",
       "      <td>250</td>\n",
       "      <td>65</td>\n",
       "      <td>130</td>\n",
       "    </tr>\n",
       "    <tr>\n",
       "      <th>2000-01-06</th>\n",
       "      <td>146</td>\n",
       "      <td>250</td>\n",
       "      <td>174</td>\n",
       "      <td>92</td>\n",
       "    </tr>\n",
       "    <tr>\n",
       "      <th>2000-01-07</th>\n",
       "      <td>115</td>\n",
       "      <td>250</td>\n",
       "      <td>127</td>\n",
       "      <td>127</td>\n",
       "    </tr>\n",
       "    <tr>\n",
       "      <th>2000-01-08</th>\n",
       "      <td>183</td>\n",
       "      <td>250</td>\n",
       "      <td>63</td>\n",
       "      <td>76</td>\n",
       "    </tr>\n",
       "    <tr>\n",
       "      <th>2000-01-09</th>\n",
       "      <td>194</td>\n",
       "      <td>250</td>\n",
       "      <td>89</td>\n",
       "      <td>74</td>\n",
       "    </tr>\n",
       "    <tr>\n",
       "      <th>2000-01-10</th>\n",
       "      <td>107</td>\n",
       "      <td>250</td>\n",
       "      <td>183</td>\n",
       "      <td>107</td>\n",
       "    </tr>\n",
       "  </tbody>\n",
       "</table>\n",
       "</div>"
      ],
      "text/plain": [
       "            pos  max_pos  m_p    f\n",
       "2000-01-01  132      250  137  156\n",
       "2000-01-02  157      250   61  114\n",
       "2000-01-03  140      250  121  120\n",
       "2000-01-04  131      250  152   86\n",
       "2000-01-05  113      250   65  130\n",
       "2000-01-06  146      250  174   92\n",
       "2000-01-07  115      250  127  127\n",
       "2000-01-08  183      250   63   76\n",
       "2000-01-09  194      250   89   74\n",
       "2000-01-10  107      250  183  107"
      ]
     },
     "metadata": {},
     "output_type": "display_data"
    },
    {
     "data": {
      "text/html": [
       "<div>\n",
       "<style scoped>\n",
       "    .dataframe tbody tr th:only-of-type {\n",
       "        vertical-align: middle;\n",
       "    }\n",
       "\n",
       "    .dataframe tbody tr th {\n",
       "        vertical-align: top;\n",
       "    }\n",
       "\n",
       "    .dataframe thead th {\n",
       "        text-align: right;\n",
       "    }\n",
       "</style>\n",
       "<table border=\"1\" class=\"dataframe\">\n",
       "  <thead>\n",
       "    <tr style=\"text-align: right;\">\n",
       "      <th></th>\n",
       "      <th>bet_size</th>\n",
       "      <th>l_p</th>\n",
       "    </tr>\n",
       "  </thead>\n",
       "  <tbody>\n",
       "    <tr>\n",
       "      <th>2000-01-01</th>\n",
       "      <td>0.936513</td>\n",
       "      <td>-7.024718e+10</td>\n",
       "    </tr>\n",
       "    <tr>\n",
       "      <th>2000-01-02</th>\n",
       "      <td>0.915355</td>\n",
       "      <td>-5.127794e+07</td>\n",
       "    </tr>\n",
       "    <tr>\n",
       "      <th>2000-01-03</th>\n",
       "      <td>-1.000000</td>\n",
       "      <td>-2.631174e+09</td>\n",
       "    </tr>\n",
       "    <tr>\n",
       "      <th>2000-01-04</th>\n",
       "      <td>-0.910892</td>\n",
       "      <td>-5.467534e+10</td>\n",
       "    </tr>\n",
       "    <tr>\n",
       "      <th>2000-01-05</th>\n",
       "      <td>0.911202</td>\n",
       "      <td>-5.596470e+13</td>\n",
       "    </tr>\n",
       "    <tr>\n",
       "      <th>2000-01-06</th>\n",
       "      <td>-0.906499</td>\n",
       "      <td>-4.289853e+08</td>\n",
       "    </tr>\n",
       "    <tr>\n",
       "      <th>2000-01-07</th>\n",
       "      <td>0.000000</td>\n",
       "      <td>0.000000e+00</td>\n",
       "    </tr>\n",
       "    <tr>\n",
       "      <th>2000-01-08</th>\n",
       "      <td>0.944464</td>\n",
       "      <td>-8.404503e+04</td>\n",
       "    </tr>\n",
       "    <tr>\n",
       "      <th>2000-01-09</th>\n",
       "      <td>-0.941458</td>\n",
       "      <td>-1.263636e+03</td>\n",
       "    </tr>\n",
       "    <tr>\n",
       "      <th>2000-01-10</th>\n",
       "      <td>-0.908034</td>\n",
       "      <td>-4.719266e+14</td>\n",
       "    </tr>\n",
       "  </tbody>\n",
       "</table>\n",
       "</div>"
      ],
      "text/plain": [
       "            bet_size           l_p\n",
       "2000-01-01  0.936513 -7.024718e+10\n",
       "2000-01-02  0.915355 -5.127794e+07\n",
       "2000-01-03 -1.000000 -2.631174e+09\n",
       "2000-01-04 -0.910892 -5.467534e+10\n",
       "2000-01-05  0.911202 -5.596470e+13\n",
       "2000-01-06 -0.906499 -4.289853e+08\n",
       "2000-01-07  0.000000  0.000000e+00\n",
       "2000-01-08  0.944464 -8.404503e+04\n",
       "2000-01-09 -0.941458 -1.263636e+03\n",
       "2000-01-10 -0.908034 -4.719266e+14"
      ]
     },
     "metadata": {},
     "output_type": "display_data"
    }
   ],
   "source": [
    "# setup parameters\n",
    "np.random.seed(0)\n",
    "sample_size = 1_000\n",
    "\n",
    "# assign dates for index\n",
    "start_date = dt.datetime(2000, 1, 1)  # starting at 01-JAN-2000\n",
    "date_step = dt.timedelta(days=1)\n",
    "dates = np.array([start_date + i*date_step for i in range(sample_size)])\n",
    "\n",
    "curr_pos = pd.Series(data=np.random.uniform(50, 200, sample_size).astype(int), index=dates)\n",
    "max_pos = pd.Series(data=np.array([250 for i in range(sample_size)]).astype(int), index=dates)\n",
    "market_price = pd.Series(data=np.random.uniform(60, 190, sample_size).astype(int), index=dates)\n",
    "forecast_price = pd.Series(data=np.random.uniform(55, 180, sample_size).astype(int), index=dates)\n",
    "cal_div = 10\n",
    "cal_bet_size = 0.95\n",
    "bet_function = 'power'\n",
    "\n",
    "df_input = pd.concat([curr_pos, max_pos, market_price, forecast_price], axis=1)\n",
    "df_input = df_input.rename(columns={0: 'pos',  # current position\n",
    "                                    1: 'max_pos',  # maximum position\n",
    "                                    2: 'm_p',  # market price\n",
    "                                    3: 'f'})  # forecast price\n",
    "\n",
    "display(df_input.head(10))\n",
    "\n",
    "df_bets = bet_size_dynamic(curr_pos, max_pos, market_price, forecast_price, cal_div, cal_bet_size, bet_function)\n",
    "display(df_bets.head(10))"
   ]
  },
  {
   "cell_type": "code",
   "execution_count": 3,
   "metadata": {},
   "outputs": [
    {
     "data": {
      "text/plain": [
       "-0.02227639471115225"
      ]
     },
     "metadata": {},
     "output_type": "display_data"
    }
   ],
   "source": [
    "w = get_w(cal_div, cal_bet_size, 'power')\n",
    "display(w)\n",
    "\n",
    "#t_pos = df_input.apply(lambda x: get_t_pos(w, x.f, x.m_p, x.max_pos, bet_function), axis=1)\n",
    "#display(t_pos)"
   ]
  },
  {
   "cell_type": "code",
   "execution_count": 7,
   "metadata": {},
   "outputs": [
    {
     "data": {
      "text/plain": [
       "2000-01-01    1.684170\n",
       "2000-01-02   -0.199367\n",
       "2000-01-03    0.721935\n",
       "2000-01-04    1.681419\n",
       "2000-01-05   -0.403441\n",
       "2000-01-06    1.752126\n",
       "2000-01-07    1.606312\n",
       "2000-01-08   -0.075759\n",
       "2000-01-09   -0.025436\n",
       "2000-01-10    1.568410\n",
       "2000-01-11    1.854208\n",
       "2000-01-12   -0.329773\n",
       "2000-01-13   -0.302368\n",
       "2000-01-14    0.947918\n",
       "2000-01-15   -0.650274\n",
       "2000-01-16    0.360991\n",
       "2000-01-17    0.314154\n",
       "2000-01-18   -0.117166\n",
       "2000-01-19    1.844710\n",
       "2000-01-20    1.909009\n",
       "2000-01-21   -0.014967\n",
       "2000-01-22    1.859411\n",
       "2000-01-23    1.623036\n",
       "2000-01-24    1.846371\n",
       "2000-01-25    1.382793\n",
       "2000-01-26    1.747945\n",
       "2000-01-27    0.400348\n",
       "2000-01-28   -0.038732\n",
       "2000-01-29    1.665294\n",
       "2000-01-30   -0.409736\n",
       "                ...   \n",
       "2002-08-28    1.814370\n",
       "2002-08-29   -0.576450\n",
       "2002-08-30    0.957413\n",
       "2002-08-31   -0.345581\n",
       "2002-09-01   -0.000134\n",
       "2002-09-02    1.438082\n",
       "2002-09-03   -0.325564\n",
       "2002-09-04    1.503174\n",
       "2002-09-05    1.512922\n",
       "2002-09-06   -0.286254\n",
       "2002-09-07    1.945203\n",
       "2002-09-08    1.863685\n",
       "2002-09-09   -0.193241\n",
       "2002-09-10    1.691422\n",
       "2002-09-11    1.945609\n",
       "2002-09-12    0.644653\n",
       "2002-09-13    0.911683\n",
       "2002-09-14    0.883787\n",
       "2002-09-15    1.449686\n",
       "2002-09-16    1.839858\n",
       "2002-09-17   -0.691479\n",
       "2002-09-18    1.525981\n",
       "2002-09-19   -0.539302\n",
       "2002-09-20    1.654805\n",
       "2002-09-21    0.815797\n",
       "2002-09-22    1.368374\n",
       "2002-09-23    1.660446\n",
       "2002-09-24    0.956888\n",
       "2002-09-25    1.460053\n",
       "2002-09-26    1.773999\n",
       "Length: 1000, dtype: float64"
      ]
     },
     "execution_count": 7,
     "metadata": {},
     "output_type": "execute_result"
    }
   ],
   "source": [
    "side + prob"
   ]
  },
  {
   "cell_type": "code",
   "execution_count": 5,
   "metadata": {},
   "outputs": [
    {
     "name": "stderr",
     "output_type": "stream",
     "text": [
      "D:\\GitProjects\\mlfinlab\\mlfinlab\\bet_sizing\\ch10_snippets.py:30: RuntimeWarning: invalid value encountered in double_scalars\n",
      "  return x * ((w + x**2)**(-0.5))\n"
     ]
    },
    {
     "ename": "ValueError",
     "evalue": "cannot convert float NaN to integer",
     "output_type": "error",
     "traceback": [
      "\u001b[1;31m---------------------------------------------------------------------------\u001b[0m",
      "\u001b[1;31mValueError\u001b[0m                                Traceback (most recent call last)",
      "\u001b[1;32m<ipython-input-5-9bd0d598d343>\u001b[0m in \u001b[0;36m<module>\u001b[1;34m\u001b[0m\n\u001b[1;32m----> 1\u001b[1;33m \u001b[0mget_t_pos\u001b[0m\u001b[1;33m(\u001b[0m\u001b[0mw\u001b[0m\u001b[1;33m,\u001b[0m \u001b[1;36m127\u001b[0m\u001b[1;33m,\u001b[0m \u001b[1;36m127\u001b[0m\u001b[1;33m,\u001b[0m \u001b[1;36m250\u001b[0m\u001b[1;33m,\u001b[0m \u001b[1;34m'sigmoid'\u001b[0m\u001b[1;33m)\u001b[0m\u001b[1;33m\u001b[0m\u001b[1;33m\u001b[0m\u001b[0m\n\u001b[0m",
      "\u001b[1;32mD:\\GitProjects\\mlfinlab\\mlfinlab\\bet_sizing\\ch10_snippets.py\u001b[0m in \u001b[0;36mget_t_pos\u001b[1;34m(w, f, m_p, max_pos, func)\u001b[0m\n\u001b[0;32m    209\u001b[0m     \"\"\"\n\u001b[0;32m    210\u001b[0m     \u001b[1;32mif\u001b[0m \u001b[0mfunc\u001b[0m \u001b[1;33m==\u001b[0m \u001b[1;34m'sigmoid'\u001b[0m\u001b[1;33m:\u001b[0m\u001b[1;33m\u001b[0m\u001b[1;33m\u001b[0m\u001b[0m\n\u001b[1;32m--> 211\u001b[1;33m         \u001b[1;32mreturn\u001b[0m \u001b[0mget_t_pos_sigmoid\u001b[0m\u001b[1;33m(\u001b[0m\u001b[0mw\u001b[0m\u001b[1;33m,\u001b[0m \u001b[0mf\u001b[0m\u001b[1;33m,\u001b[0m \u001b[0mm_p\u001b[0m\u001b[1;33m,\u001b[0m \u001b[0mmax_pos\u001b[0m\u001b[1;33m)\u001b[0m\u001b[1;33m\u001b[0m\u001b[1;33m\u001b[0m\u001b[0m\n\u001b[0m\u001b[0;32m    212\u001b[0m     \u001b[1;32melif\u001b[0m \u001b[0mfunc\u001b[0m \u001b[1;33m==\u001b[0m \u001b[1;34m'power'\u001b[0m\u001b[1;33m:\u001b[0m\u001b[1;33m\u001b[0m\u001b[1;33m\u001b[0m\u001b[0m\n\u001b[0;32m    213\u001b[0m         \u001b[1;32mreturn\u001b[0m \u001b[0mget_t_pos_power\u001b[0m\u001b[1;33m(\u001b[0m\u001b[0mw\u001b[0m\u001b[1;33m,\u001b[0m \u001b[0mf\u001b[0m\u001b[1;33m,\u001b[0m \u001b[0mm_p\u001b[0m\u001b[1;33m,\u001b[0m \u001b[0mmax_pos\u001b[0m\u001b[1;33m)\u001b[0m\u001b[1;33m\u001b[0m\u001b[1;33m\u001b[0m\u001b[0m\n",
      "\u001b[1;32mD:\\GitProjects\\mlfinlab\\mlfinlab\\bet_sizing\\ch10_snippets.py\u001b[0m in \u001b[0;36mget_t_pos_sigmoid\u001b[1;34m(w, f, m_p, max_pos)\u001b[0m\n\u001b[0;32m     42\u001b[0m     \u001b[1;33m:\u001b[0m\u001b[1;32mreturn\u001b[0m\u001b[1;33m:\u001b[0m \u001b[1;33m(\u001b[0m\u001b[0mfloat\u001b[0m\u001b[1;33m)\u001b[0m \u001b[0mTarget\u001b[0m \u001b[0mposition\u001b[0m\u001b[1;33m.\u001b[0m\u001b[1;33m\u001b[0m\u001b[1;33m\u001b[0m\u001b[0m\n\u001b[0;32m     43\u001b[0m     \"\"\"\n\u001b[1;32m---> 44\u001b[1;33m     \u001b[1;32mreturn\u001b[0m \u001b[0mint\u001b[0m\u001b[1;33m(\u001b[0m\u001b[0mbet_size_sigmoid\u001b[0m\u001b[1;33m(\u001b[0m\u001b[0mw\u001b[0m\u001b[1;33m,\u001b[0m \u001b[0mf\u001b[0m\u001b[1;33m-\u001b[0m\u001b[0mm_p\u001b[0m\u001b[1;33m)\u001b[0m \u001b[1;33m*\u001b[0m \u001b[0mmax_pos\u001b[0m\u001b[1;33m)\u001b[0m\u001b[1;33m\u001b[0m\u001b[1;33m\u001b[0m\u001b[0m\n\u001b[0m\u001b[0;32m     45\u001b[0m \u001b[1;33m\u001b[0m\u001b[0m\n\u001b[0;32m     46\u001b[0m \u001b[1;32mdef\u001b[0m \u001b[0minv_price_sigmoid\u001b[0m\u001b[1;33m(\u001b[0m\u001b[0mf\u001b[0m\u001b[1;33m,\u001b[0m \u001b[0mw\u001b[0m\u001b[1;33m,\u001b[0m \u001b[0mm\u001b[0m\u001b[1;33m)\u001b[0m\u001b[1;33m:\u001b[0m\u001b[1;33m\u001b[0m\u001b[1;33m\u001b[0m\u001b[0m\n",
      "\u001b[1;31mValueError\u001b[0m: cannot convert float NaN to integer"
     ]
    }
   ],
   "source": [
    "get_t_pos(w, 127, 127, 250, 'sigmoid')"
   ]
  },
  {
   "cell_type": "code",
   "execution_count": 10,
   "metadata": {},
   "outputs": [
    {
     "data": {
      "text/plain": [
       "0.95"
      ]
     },
     "execution_count": 10,
     "metadata": {},
     "output_type": "execute_result"
    }
   ],
   "source": [
    "bet_size(-0.02227639471115225, 10, 'power')\n",
    "#bet_size(10.08, 1, 'sigmoid')"
   ]
  },
  {
   "cell_type": "code",
   "execution_count": 4,
   "metadata": {},
   "outputs": [
    {
     "name": "stdout",
     "output_type": "stream",
     "text": [
      "w_init: -2.0,  m: 0.01,  w_inv: -1.9999999999999996,  inv_price: -5.329070518200751e-15\n",
      "w_init: -1.8,  m: 0.015848931924611134,  w_inv: -1.7999999999999996,  inv_price: -5.329070518200751e-15\n",
      "w_init: -1.6,  m: 0.025118864315095794,  w_inv: -1.5999999999999999,  inv_price: -1.7763568394002505e-15\n",
      "w_init: -1.4,  m: 0.039810717055349734,  w_inv: -1.4,  inv_price: 1.7763568394002505e-15\n",
      "w_init: -1.2,  m: 0.06309573444801933,  w_inv: -1.2,  inv_price: 0.0\n",
      "w_init: -1.0,  m: 0.1,  w_inv: -0.9999999999999998,  inv_price: -5.329070518200751e-15\n",
      "w_init: -0.7999999999999998,  m: 0.15848931924611143,  w_inv: -0.7999999999999997,  inv_price: -1.7763568394002505e-15\n",
      "w_init: -0.5999999999999999,  m: 0.25118864315095807,  w_inv: -0.5999999999999999,  inv_price: 0.0\n",
      "w_init: -0.3999999999999999,  m: 0.3981071705534973,  w_inv: -0.3999999999999999,  inv_price: 0.0\n",
      "w_init: -0.19999999999999996,  m: 0.6309573444801934,  w_inv: -0.1999999999999999,  inv_price: -3.552713678800501e-15\n",
      "w_init: 0.0,  m: 1.0,  w_inv: 0.0,  inv_price: 9.0\n",
      "w_init: 0.20000000000000018,  m: 1.584893192461114,  w_inv: 0.20000000000000015,  inv_price: -1.7763568394002505e-15\n",
      "w_init: 0.40000000000000036,  m: 2.5118864315095824,  w_inv: 0.40000000000000036,  inv_price: -1.7763568394002505e-15\n",
      "w_init: 0.6000000000000001,  m: 3.981071705534973,  w_inv: 0.6000000000000001,  inv_price: 0.0\n",
      "w_init: 0.8000000000000003,  m: 6.309573444801936,  w_inv: 0.8000000000000002,  inv_price: -3.552713678800501e-15\n",
      "w_init: 1.0,  m: 10.0,  w_inv: 1.0,  inv_price: 0.0\n",
      "w_init: 1.2000000000000002,  m: 15.848931924611142,  w_inv: 1.2000000000000002,  inv_price: -1.7763568394002505e-15\n",
      "w_init: 1.4000000000000004,  m: 25.11886431509582,  w_inv: 1.4000000000000001,  inv_price: -1.7763568394002505e-15\n",
      "w_init: 1.6,  m: 39.810717055349734,  w_inv: 1.5999999999999999,  inv_price: -1.7763568394002505e-15\n",
      "w_init: 1.8000000000000003,  m: 63.095734448019364,  w_inv: 1.8,  inv_price: -5.329070518200751e-15\n",
      "w_init: 2.0,  m: 100.0,  w_inv: 2.0,  inv_price: 0.0\n",
      "w_init: 2.2,  m: 158.48931924611142,  w_inv: 2.1999999999999997,  inv_price: -3.552713678800501e-15\n",
      "w_init: 2.4000000000000004,  m: 251.18864315095823,  w_inv: 2.4000000000000004,  inv_price: -1.7763568394002505e-15\n",
      "w_init: 2.6000000000000005,  m: 398.1071705534977,  w_inv: 2.6,  inv_price: -1.7763568394002505e-15\n",
      "w_init: 2.8000000000000007,  m: 630.9573444801943,  w_inv: 2.8000000000000003,  inv_price: -1.7763568394002505e-15\n",
      "w_init: 3.0,  m: 1000.0,  w_inv: 2.9999999999999996,  inv_price: -1.7763568394002505e-15\n",
      "w_init: 3.2,  m: 1584.893192461114,  w_inv: 3.1999999999999997,  inv_price: -1.7763568394002505e-15\n",
      "w_init: 3.4000000000000004,  m: 2511.886431509582,  w_inv: 3.4,  inv_price: -3.552713678800501e-15\n",
      "w_init: 3.6000000000000005,  m: 3981.0717055349774,  w_inv: 3.6,  inv_price: -3.552713678800501e-15\n",
      "w_init: 3.8000000000000007,  m: 6309.573444801943,  w_inv: 3.8000000000000003,  inv_price: -3.552713678800501e-15\n"
     ]
    },
    {
     "name": "stderr",
     "output_type": "stream",
     "text": [
      "D:\\GitProjects\\mlfinlab\\mlfinlab\\bet_sizing\\ch10_snippets.py:138: RuntimeWarning: divide by zero encountered in double_scalars\n",
      "  return f - np.sign(m) * abs(m)**(1/w)\n"
     ]
    }
   ],
   "source": [
    "import matplotlib.pyplot as plt\n",
    "\n",
    "def w_pow(x, m):\n",
    "    if x >= 0:\n",
    "        return np.sign(x) * (np.log(abs(m)) / np.log(abs(x)))\n",
    "    else:\n",
    "        return np.log(abs(m)) / np.log(abs(x))\n",
    "\n",
    "def m_pow(w, x):\n",
    "    return np.sign(x) * abs(x)**w\n",
    "\n",
    "w_arr = [-2+ix*0.2 for ix in range(30)]\n",
    "w_1 = 0.1\n",
    "x = 10\n",
    "\n",
    "for w_1 in w_arr:\n",
    "    m_1 = m_pow(w_1, x)\n",
    "    w_2 = w_pow(x, m_1)\n",
    "    ip = inv_price_power(f=10, w=w_2, m=m_1)\n",
    "    print(f\"w_init: {w_1},  m: {m_1},  w_inv: {w_2},  inv_price: {ip}\")"
   ]
  },
  {
   "cell_type": "code",
   "execution_count": 7,
   "metadata": {},
   "outputs": [
    {
     "name": "stdout",
     "output_type": "stream",
     "text": [
      "w: 10.803324099723\n",
      "t_pos: 95\n",
      "inv_price: 107.03362595076077\n",
      "limit_price: 108.99554137457342\n",
      "\n",
      "w: -0.02227639471115225\n",
      "t_pos: 95\n",
      "inv_price: 100.0\n",
      "limit_price: -6.359329902342509e+87\n",
      "\n"
     ]
    }
   ],
   "source": [
    "# check sigmoid calculations\n",
    "for func in ['sigmoid', 'power']:\n",
    "    # w calibration\n",
    "    w = get_w(x=10, m=0.95, func=func)\n",
    "    print(f\"w: {w}\")\n",
    "    t_pos = get_t_pos(w=w, f=110, m_p=100, max_pos=100, func=func)\n",
    "    print(f\"t_pos: {t_pos}\")\n",
    "    inv_p = inv_price(f=110, w=w, m=0.95, func=func)\n",
    "    print(f\"inv_price: {inv_p}\")\n",
    "    l_p = limit_price(t_pos=t_pos, pos=0, f=110, w=w, max_pos=100, func=func)\n",
    "    print(f\"limit_price: {l_p}\")\n",
    "    print(\"\")"
   ]
  },
  {
   "cell_type": "code",
   "execution_count": 8,
   "metadata": {},
   "outputs": [
    {
     "name": "stdout",
     "output_type": "stream",
     "text": [
      "inv_price: -7.772620798176876e+44\n"
     ]
    }
   ],
   "source": [
    "inv_price = inv_price_power(f=110, w=w, m=0.1)\n",
    "print(f\"inv_price: {inv_price}\")"
   ]
  },
  {
   "cell_type": "code",
   "execution_count": 24,
   "metadata": {},
   "outputs": [
    {
     "data": {
      "text/plain": [
       "1"
      ]
     },
     "execution_count": 24,
     "metadata": {},
     "output_type": "execute_result"
    }
   ],
   "source": [
    "np.sign(10)"
   ]
  },
  {
   "cell_type": "code",
   "execution_count": 9,
   "metadata": {},
   "outputs": [
    {
     "data": {
      "text/plain": [
       "8"
      ]
     },
     "execution_count": 9,
     "metadata": {},
     "output_type": "execute_result"
    }
   ],
   "source": [
    "2**3"
   ]
  },
  {
   "cell_type": "code",
   "execution_count": 10,
   "metadata": {},
   "outputs": [
    {
     "data": {
      "text/plain": [
       "2.0"
      ]
     },
     "execution_count": 10,
     "metadata": {},
     "output_type": "execute_result"
    }
   ],
   "source": [
    "8**(1/3)"
   ]
  },
  {
   "cell_type": "code",
   "execution_count": 2,
   "metadata": {},
   "outputs": [
    {
     "name": "stdout",
     "output_type": "stream",
     "text": [
      "f: 90  |  p: 90  |  w: -0.02227639471115225  |  m: 0.0  |  inv_p: 90  |  PRICE CHECK: True\n",
      "f: 90  |  p: 95  |  w: -0.02227639471115225  |  m: -0.9647826133113383  |  inv_p: 95.00000000000001  |  PRICE CHECK: True\n",
      "f: 90  |  p: 100  |  w: -0.02227639471115225  |  m: -0.95  |  inv_p: 100.0  |  PRICE CHECK: True\n",
      "f: 90  |  p: 105  |  w: -0.02227639471115225  |  m: -0.9414579495077543  |  inv_p: 104.99999999999997  |  PRICE CHECK: True\n",
      "f: 90  |  p: 110  |  w: -0.02227639471115225  |  m: -0.9354438891704616  |  inv_p: 110.00000000000001  |  PRICE CHECK: True\n",
      "f: 90  |  p: 115  |  w: -0.02227639471115225  |  m: -0.9308054909478554  |  inv_p: 115.00000000000007  |  PRICE CHECK: True\n",
      "f: 90  |  p: 120  |  w: -0.02227639471115225  |  m: -0.9270327218715597  |  inv_p: 120.00000000000006  |  PRICE CHECK: True\n",
      "f: 95  |  p: 90  |  w: -0.02227639471115225  |  m: 0.9647826133113383  |  inv_p: 89.99999999999999  |  PRICE CHECK: True\n",
      "f: 95  |  p: 95  |  w: -0.02227639471115225  |  m: 0.0  |  inv_p: 95  |  PRICE CHECK: True\n",
      "f: 95  |  p: 100  |  w: -0.02227639471115225  |  m: -0.9647826133113383  |  inv_p: 100.00000000000001  |  PRICE CHECK: True\n",
      "f: 95  |  p: 105  |  w: -0.02227639471115225  |  m: -0.95  |  inv_p: 105.0  |  PRICE CHECK: True\n",
      "f: 95  |  p: 110  |  w: -0.02227639471115225  |  m: -0.9414579495077543  |  inv_p: 109.99999999999997  |  PRICE CHECK: True\n",
      "f: 95  |  p: 115  |  w: -0.02227639471115225  |  m: -0.9354438891704616  |  inv_p: 115.00000000000001  |  PRICE CHECK: True\n",
      "f: 95  |  p: 120  |  w: -0.02227639471115225  |  m: -0.9308054909478554  |  inv_p: 120.00000000000007  |  PRICE CHECK: True\n",
      "f: 100  |  p: 90  |  w: -0.02227639471115225  |  m: 0.95  |  inv_p: 90.0  |  PRICE CHECK: True\n",
      "f: 100  |  p: 95  |  w: -0.02227639471115225  |  m: 0.9647826133113383  |  inv_p: 94.99999999999999  |  PRICE CHECK: True\n",
      "f: 100  |  p: 100  |  w: -0.02227639471115225  |  m: 0.0  |  inv_p: 100  |  PRICE CHECK: True\n",
      "f: 100  |  p: 105  |  w: -0.02227639471115225  |  m: -0.9647826133113383  |  inv_p: 105.00000000000001  |  PRICE CHECK: True\n",
      "f: 100  |  p: 110  |  w: -0.02227639471115225  |  m: -0.95  |  inv_p: 110.0  |  PRICE CHECK: True\n",
      "f: 100  |  p: 115  |  w: -0.02227639471115225  |  m: -0.9414579495077543  |  inv_p: 114.99999999999997  |  PRICE CHECK: True\n",
      "f: 100  |  p: 120  |  w: -0.02227639471115225  |  m: -0.9354438891704616  |  inv_p: 120.00000000000001  |  PRICE CHECK: True\n",
      "f: 105  |  p: 90  |  w: -0.02227639471115225  |  m: 0.9414579495077543  |  inv_p: 90.00000000000003  |  PRICE CHECK: True\n",
      "f: 105  |  p: 95  |  w: -0.02227639471115225  |  m: 0.95  |  inv_p: 95.0  |  PRICE CHECK: True\n",
      "f: 105  |  p: 100  |  w: -0.02227639471115225  |  m: 0.9647826133113383  |  inv_p: 99.99999999999999  |  PRICE CHECK: True\n",
      "f: 105  |  p: 105  |  w: -0.02227639471115225  |  m: 0.0  |  inv_p: 105  |  PRICE CHECK: True\n",
      "f: 105  |  p: 110  |  w: -0.02227639471115225  |  m: -0.9647826133113383  |  inv_p: 110.00000000000001  |  PRICE CHECK: True\n",
      "f: 105  |  p: 115  |  w: -0.02227639471115225  |  m: -0.95  |  inv_p: 115.0  |  PRICE CHECK: True\n",
      "f: 105  |  p: 120  |  w: -0.02227639471115225  |  m: -0.9414579495077543  |  inv_p: 119.99999999999997  |  PRICE CHECK: True\n",
      "f: 110  |  p: 90  |  w: -0.02227639471115225  |  m: 0.9354438891704616  |  inv_p: 89.99999999999999  |  PRICE CHECK: True\n",
      "f: 110  |  p: 95  |  w: -0.02227639471115225  |  m: 0.9414579495077543  |  inv_p: 95.00000000000003  |  PRICE CHECK: True\n",
      "f: 110  |  p: 100  |  w: -0.02227639471115225  |  m: 0.95  |  inv_p: 100.0  |  PRICE CHECK: True\n",
      "f: 110  |  p: 105  |  w: -0.02227639471115225  |  m: 0.9647826133113383  |  inv_p: 104.99999999999999  |  PRICE CHECK: True\n",
      "f: 110  |  p: 110  |  w: -0.02227639471115225  |  m: 0.0  |  inv_p: 110  |  PRICE CHECK: True\n",
      "f: 110  |  p: 115  |  w: -0.02227639471115225  |  m: -0.9647826133113383  |  inv_p: 115.00000000000001  |  PRICE CHECK: True\n",
      "f: 110  |  p: 120  |  w: -0.02227639471115225  |  m: -0.95  |  inv_p: 120.0  |  PRICE CHECK: True\n",
      "f: 115  |  p: 90  |  w: -0.02227639471115225  |  m: 0.9308054909478554  |  inv_p: 89.99999999999993  |  PRICE CHECK: True\n",
      "f: 115  |  p: 95  |  w: -0.02227639471115225  |  m: 0.9354438891704616  |  inv_p: 94.99999999999999  |  PRICE CHECK: True\n",
      "f: 115  |  p: 100  |  w: -0.02227639471115225  |  m: 0.9414579495077543  |  inv_p: 100.00000000000003  |  PRICE CHECK: True\n",
      "f: 115  |  p: 105  |  w: -0.02227639471115225  |  m: 0.95  |  inv_p: 105.0  |  PRICE CHECK: True\n",
      "f: 115  |  p: 110  |  w: -0.02227639471115225  |  m: 0.9647826133113383  |  inv_p: 109.99999999999999  |  PRICE CHECK: True\n",
      "f: 115  |  p: 115  |  w: -0.02227639471115225  |  m: 0.0  |  inv_p: 115  |  PRICE CHECK: True\n",
      "f: 115  |  p: 120  |  w: -0.02227639471115225  |  m: -0.9647826133113383  |  inv_p: 120.00000000000001  |  PRICE CHECK: True\n",
      "f: 120  |  p: 90  |  w: -0.02227639471115225  |  m: 0.9270327218715597  |  inv_p: 89.99999999999994  |  PRICE CHECK: True\n",
      "f: 120  |  p: 95  |  w: -0.02227639471115225  |  m: 0.9308054909478554  |  inv_p: 94.99999999999993  |  PRICE CHECK: True\n",
      "f: 120  |  p: 100  |  w: -0.02227639471115225  |  m: 0.9354438891704616  |  inv_p: 99.99999999999999  |  PRICE CHECK: True\n",
      "f: 120  |  p: 105  |  w: -0.02227639471115225  |  m: 0.9414579495077543  |  inv_p: 105.00000000000003  |  PRICE CHECK: True\n",
      "f: 120  |  p: 110  |  w: -0.02227639471115225  |  m: 0.95  |  inv_p: 110.0  |  PRICE CHECK: True\n",
      "f: 120  |  p: 115  |  w: -0.02227639471115225  |  m: 0.9647826133113383  |  inv_p: 114.99999999999999  |  PRICE CHECK: True\n",
      "f: 120  |  p: 120  |  w: -0.02227639471115225  |  m: 0.0  |  inv_p: 120  |  PRICE CHECK: True\n"
     ]
    }
   ],
   "source": [
    "from mlfinlab.bet_sizing.ch10_snippets import inv_price_power, bet_size_power, get_w_power\n",
    "\n",
    "f_arr = [90, 95, 100, 105, 110, 115, 120]\n",
    "p_arr = [90, 95, 100, 105, 110, 115, 120]\n",
    "w_arr = [-0.5, -0.4, -0.3, -0.2, -0.1, 0, 0.1, 0.5, 1, 1.5, 2]\n",
    "w = get_w_power(10, 0.95)\n",
    "\n",
    "for f in f_arr:\n",
    "    for p in p_arr:\n",
    "        m = bet_size_power(w, f-p)\n",
    "        try:\n",
    "            inv_p = inv_price_power(f, w, m)\n",
    "        except:\n",
    "            inv_p = 'nan'\n",
    "        print(f\"f: {f}  |  p: {p}  |  w: {w}  |  m: {m}  |  inv_p: {inv_p}  |  PRICE CHECK: {abs(p-inv_p)<0.00001}\")"
   ]
  },
  {
   "cell_type": "code",
   "execution_count": null,
   "metadata": {},
   "outputs": [],
   "source": []
  }
 ],
 "metadata": {
  "kernelspec": {
   "display_name": "Python 3",
   "language": "python",
   "name": "python3"
  },
  "language_info": {
   "codemirror_mode": {
    "name": "ipython",
    "version": 3
   },
   "file_extension": ".py",
   "mimetype": "text/x-python",
   "name": "python",
   "nbconvert_exporter": "python",
   "pygments_lexer": "ipython3",
   "version": "3.7.3"
  }
 },
 "nbformat": 4,
 "nbformat_minor": 2
}
